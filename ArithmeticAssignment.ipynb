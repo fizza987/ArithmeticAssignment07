{
 "cells": [
  {
   "cell_type": "code",
   "execution_count": null,
   "id": "14d5b3e7",
   "metadata": {},
   "outputs": [
    {
     "name": "stdout",
     "output_type": "stream",
     "text": [
      "9 + 5 = 14\n"
     ]
    }
   ],
   "source": [
    "##1Addition\n",
    "\n",
    "x = 9\n",
    "y = 5\n",
    "result = x + y  #Adding variables x and y.\n",
    "print(f\"{x} + {y} = {result}\")"
   ]
  },
  {
   "cell_type": "code",
   "execution_count": null,
   "id": "7f3e1c49",
   "metadata": {},
   "outputs": [
    {
     "name": "stdout",
     "output_type": "stream",
     "text": [
      "9 - 5 = 4\n",
      "5 - 9 = -4\n"
     ]
    }
   ],
   "source": [
    "##2Subtraction\n",
    "\n",
    "x = 9\n",
    "y = 5\n",
    "result1 = x - y   #Subtracting variables x and y.\n",
    "result2 = y - x   #Subtracting variables y and x.\n",
    "print(f\"{x} - {y} = {result1}\")\n",
    "print(f\"{y} - {x} = {result2}\")"
   ]
  },
  {
   "cell_type": "code",
   "execution_count": null,
   "id": "a0396b9d",
   "metadata": {},
   "outputs": [
    {
     "name": "stdout",
     "output_type": "stream",
     "text": [
      "9 * 5 = 45\n"
     ]
    }
   ],
   "source": [
    "##3Multiplicaion\n",
    "\n",
    "x = 9\n",
    "y = 5\n",
    "result = x*y  #Multiplying variables x and y.\n",
    "print(f\"{x} * {y} = {result}\")"
   ]
  },
  {
   "cell_type": "code",
   "execution_count": null,
   "id": "3e92f004",
   "metadata": {},
   "outputs": [
    {
     "name": "stdout",
     "output_type": "stream",
     "text": [
      "9 / 5 = 1.8\n"
     ]
    }
   ],
   "source": [
    "##4Division\n",
    "\n",
    "x = 9 \n",
    "y = 5 \n",
    "result = x/y  #Dividing variables x and y.\n",
    "print(f\"{x} / {y} = {result}\")   # Division always returns a float in Python."
   ]
  },
  {
   "cell_type": "code",
   "execution_count": null,
   "id": "c3d67bd2",
   "metadata": {},
   "outputs": [
    {
     "name": "stdout",
     "output_type": "stream",
     "text": [
      "9 // 5 = 1\n"
     ]
    }
   ],
   "source": [
    "##5Floor Division\n",
    "\n",
    "x = 9 \n",
    "y = 5\n",
    "#Dividing x and y by the method of Floor Division.\n",
    "result = x//y \n",
    "#Floor division only gives you the integer  part of the division,\n",
    "# discarding the remainder.\n",
    "print(f\"{x} // {y} = {result}\")"
   ]
  },
  {
   "cell_type": "code",
   "execution_count": null,
   "id": "68255374",
   "metadata": {},
   "outputs": [
    {
     "name": "stdout",
     "output_type": "stream",
     "text": [
      "9 % 5 = 4\n"
     ]
    }
   ],
   "source": [
    "##6Modulus \n",
    "\n",
    "x = 9 \n",
    "y = 5\n",
    "result = x % y\n",
    "#Modulus operator returns the remainder of the division.\n",
    "print(f\"{x} % {y} = {result}\")"
   ]
  },
  {
   "cell_type": "code",
   "execution_count": null,
   "id": "283d9a41",
   "metadata": {},
   "outputs": [
    {
     "name": "stdout",
     "output_type": "stream",
     "text": [
      "9 ** 5 = 59049\n"
     ]
    }
   ],
   "source": [
    "##7Exponentiation \n",
    "\n",
    "x = 9 \n",
    "y = 5\n",
    "result = 9**5\n",
    "#Exponentiation operator raises x to the power of y.\n",
    "print(f\"{x} ** {y} = {result}\")"
   ]
  }
 ],
 "metadata": {
  "kernelspec": {
   "display_name": "base",
   "language": "python",
   "name": "python3"
  },
  "language_info": {
   "codemirror_mode": {
    "name": "ipython",
    "version": 3
   },
   "file_extension": ".py",
   "mimetype": "text/x-python",
   "name": "python",
   "nbconvert_exporter": "python",
   "pygments_lexer": "ipython3",
   "version": "3.12.9"
  }
 },
 "nbformat": 4,
 "nbformat_minor": 5
}
